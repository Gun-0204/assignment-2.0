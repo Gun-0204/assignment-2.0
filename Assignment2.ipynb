{
  "nbformat": 4,
  "nbformat_minor": 0,
  "metadata": {
    "colab": {
      "provenance": []
    },
    "kernelspec": {
      "name": "python3",
      "display_name": "Python 3"
    },
    "language_info": {
      "name": "python"
    }
  },
  "cells": [
    {
      "cell_type": "markdown",
      "source": [
        "#ASSIGNMENT 2\n",
        " Question 1. Write a simple program in HTML  that displays the heading \"HTML defines the content and structure of\n",
        "your website” on the web browser?"
      ],
      "metadata": {
        "id": "g1vlxQER4DiW"
      }
    },
    {
      "cell_type": "code",
      "source": [
        "from IPython.display import HTML\n",
        "\n",
        "html_code = \"\"\"\n",
        "<!DOCTYPE html>\n",
        "<html>\n",
        "<head>\n",
        "    <title>HTML Example</title>\n",
        "</head>\n",
        "<body>\n",
        "    <h1>HTML defines the content and structure of your website</h1>\n",
        "</body>\n",
        "</html>\n",
        "\"\"\"\n",
        "\n",
        "display(HTML(html_code))"
      ],
      "metadata": {
        "id": "grBivWAi4B-R",
        "colab": {
          "base_uri": "https://localhost:8080/",
          "height": 74
        },
        "outputId": "4316dcf0-7d08-423c-8c31-b5ed91f17ae9"
      },
      "execution_count": 6,
      "outputs": [
        {
          "output_type": "display_data",
          "data": {
            "text/plain": [
              "<IPython.core.display.HTML object>"
            ],
            "text/html": [
              "\n",
              "<!DOCTYPE html>\n",
              "<html>\n",
              "<head>\n",
              "    <title>HTML Example</title>\n",
              "</head>\n",
              "<body>\n",
              "    <h1>HTML defines the content and structure of your website</h1>\n",
              "</body>\n",
              "</html>\n"
            ]
          },
          "metadata": {}
        }
      ]
    },
    {
      "cell_type": "markdown",
      "source": [
        "Question 2. Explain the purpose of comments in HTML and provide an example of how to use comments in an HTML\n",
        "document?\n",
        "\n",
        "Answer:\n",
        "\n",
        "Comments in HTML are used to add notes or explanations within the code that are not displayed on the web browser. They help developers understand the structure, logic, or purpose of the code, especially when working on large projects or collaborating with others.\n",
        "\n",
        "Uses of comments:\n",
        "\n",
        "1. To explain sections of code.\n",
        "\n",
        "2. To temporarily disable code during testing.\n",
        "\n",
        "3. To leave reminders or TODOs.\n"
      ],
      "metadata": {
        "id": "d7NuITjiPeqJ"
      }
    },
    {
      "cell_type": "code",
      "source": [
        "from IPython.display import HTML\n",
        "\n",
        "html_code = \"\"\"\n",
        "<!DOCTYPE html>\n",
        "<html>\n",
        "<head>\n",
        "    <title>Comment Example</title>\n",
        "</head>\n",
        "<body>\n",
        "\n",
        "    <!-- This is the main heading -->\n",
        "    <h1>Welcome to My Website</h1>\n",
        "\n",
        "    <!-- Below is a paragraph -->\n",
        "    <p>This website is built using HTML.</p>\n",
        "\n",
        "</body>\n",
        "</html>\n",
        "\"\"\"\n",
        "\n",
        "display(HTML(html_code))"
      ],
      "metadata": {
        "colab": {
          "base_uri": "https://localhost:8080/",
          "height": 100
        },
        "id": "ZTpcr98TQk1c",
        "outputId": "d85b6c94-918f-49b2-f559-d78f868aa246"
      },
      "execution_count": 8,
      "outputs": [
        {
          "output_type": "display_data",
          "data": {
            "text/plain": [
              "<IPython.core.display.HTML object>"
            ],
            "text/html": [
              "\n",
              "<!DOCTYPE html>\n",
              "<html>\n",
              "<head>\n",
              "    <title>Comment Example</title>\n",
              "</head>\n",
              "<body>\n",
              "\n",
              "    <!-- This is the main heading -->\n",
              "    <h1>Welcome to My Website</h1>\n",
              "\n",
              "    <!-- Below is a paragraph -->\n",
              "    <p>This website is built using HTML.</p>\n",
              "\n",
              "</body>\n",
              "</html>\n"
            ]
          },
          "metadata": {}
        }
      ]
    },
    {
      "cell_type": "markdown",
      "source": [
        "Question 3: Write an HTML program that includes a heading, a paragraph of text, a horizontal line, and a line break.\n",
        "Arrange these elements to create a simple web page layout?"
      ],
      "metadata": {
        "id": "h2V-dtLhRI8-"
      }
    },
    {
      "cell_type": "code",
      "source": [
        "from IPython.display import HTML\n",
        "\n",
        "html_code = \"\"\"\n",
        "<!DOCTYPE html>\n",
        "<html>\n",
        "<head>\n",
        "    <title>Simple Web Page</title>\n",
        "</head>\n",
        "<body>\n",
        "\n",
        "    <h1>Welcome to My Simple Web Page</h1>\n",
        "\n",
        "    <hr> <!-- Horizontal line -->\n",
        "\n",
        "    <p>\n",
        "        This is a paragraph explaining the content of the web page.\n",
        "        <br> <!-- Line break -->\n",
        "        It shows how HTML elements work together to structure content.\n",
        "    </p>\n",
        "\n",
        "</body>\n",
        "</html>\n",
        "\"\"\"\n",
        "\n",
        "display(HTML(html_code))"
      ],
      "metadata": {
        "colab": {
          "base_uri": "https://localhost:8080/",
          "height": 127
        },
        "id": "IpP7HQZvRnYl",
        "outputId": "edcb4fd7-9062-4e9a-ba4b-f9d300dc6576"
      },
      "execution_count": 9,
      "outputs": [
        {
          "output_type": "display_data",
          "data": {
            "text/plain": [
              "<IPython.core.display.HTML object>"
            ],
            "text/html": [
              "\n",
              "<!DOCTYPE html>\n",
              "<html>\n",
              "<head>\n",
              "    <title>Simple Web Page</title>\n",
              "</head>\n",
              "<body>\n",
              "\n",
              "    <h1>Welcome to My Simple Web Page</h1>\n",
              "\n",
              "    <hr> <!-- Horizontal line -->\n",
              "\n",
              "    <p>\n",
              "        This is a paragraph explaining the content of the web page.\n",
              "        <br> <!-- Line break -->\n",
              "        It shows how HTML elements work together to structure content.\n",
              "    </p>\n",
              "\n",
              "</body>\n",
              "</html>\n"
            ]
          },
          "metadata": {}
        }
      ]
    },
    {
      "cell_type": "markdown",
      "source": [
        "Question 4: Write a short note on Tag and element with an example?\n",
        "\n",
        "Answer:\n",
        "\n",
        "TAG:\n",
        "\n",
        "1. Tags are the building block of blocks of HTML document and consist of angle brackets enclosing specific keyword.\n",
        "\n",
        "2. Tags provide instructions to web browsers on how to display the content.\n",
        "\n",
        "3. An HTML tag is composed of an opening tag and some cases in closing tag.\n",
        "\n",
        "4. example: heading tag,paragraph tag etc.\n",
        "\n",
        "ELEMENT:\n",
        "\n",
        "1. HTML elements are used to define the structure and content of a web page.\n",
        "\n",
        "2. An element usually has an opening tag, some content, and a closing tag.\n",
        "\n",
        "3. Some elements do not have closing tags and are self-contained.\n",
        "\n",
        "4. example:\n",
        "\n"
      ],
      "metadata": {
        "id": "YtBC4wiuSE81"
      }
    },
    {
      "cell_type": "code",
      "source": [
        "from IPython.display import HTML\n",
        "\n",
        "html_code = \"\"\"\n",
        "<!DOCTYPE html>\n",
        "<html>\n",
        "<head>\n",
        "    <title>Simple Web Page</title>\n",
        "</head>\n",
        "<body>\n",
        "    <h1></h1> <!-- using heading tag -->\n",
        "    <h1>Welcome to My Simple Web Page</h1> <!-- using element -->\n",
        "\n",
        "</body>\n",
        "</html>\n",
        "\"\"\"\n",
        "\n",
        "display(HTML(html_code))"
      ],
      "metadata": {
        "colab": {
          "base_uri": "https://localhost:8080/",
          "height": 74
        },
        "id": "5rlnH-JeXs2-",
        "outputId": "0afb05ac-277d-4b5a-9858-a33253095e91"
      },
      "execution_count": 12,
      "outputs": [
        {
          "output_type": "display_data",
          "data": {
            "text/plain": [
              "<IPython.core.display.HTML object>"
            ],
            "text/html": [
              "\n",
              "<!DOCTYPE html>\n",
              "<html>\n",
              "<head>\n",
              "    <title>Simple Web Page</title>\n",
              "</head>\n",
              "<body>\n",
              "    <h1></h1>\n",
              "    <h1>Welcome to My Simple Web Page</h1> <!-- element tag -->\n",
              "\n",
              "</body>\n",
              "</html>\n"
            ]
          },
          "metadata": {}
        }
      ]
    },
    {
      "cell_type": "markdown",
      "source": [
        "Question 5: What is the DOCTYPE declaration in html?\n",
        "\n",
        "Answer:\n",
        "1. The DOCTYPE declaration in HTML is used to inform the browser about the version of HTML being used in the document.\n",
        "\n",
        "2. It must appears only once and should be the very first line in an html file.\n",
        "\n",
        "3. It is not case sensitive.\n",
        "\n",
        "4. The DOCTYPE declaration represents the document type, and helps browsers to display web pages correctly.\n"
      ],
      "metadata": {
        "id": "EOx1doGaVDM1"
      }
    }
  ]
}